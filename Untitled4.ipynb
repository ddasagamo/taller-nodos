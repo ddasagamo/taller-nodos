{
  "nbformat": 4,
  "nbformat_minor": 0,
  "metadata": {
    "colab": {
      "provenance": [],
      "authorship_tag": "ABX9TyO4JiRK1zQhL0ucvLHGJBuU",
      "include_colab_link": true
    },
    "kernelspec": {
      "name": "python3",
      "display_name": "Python 3"
    },
    "language_info": {
      "name": "python"
    }
  },
  "cells": [
    {
      "cell_type": "markdown",
      "metadata": {
        "id": "view-in-github",
        "colab_type": "text"
      },
      "source": [
        "<a href=\"https://colab.research.google.com/github/ddasagamo/taller-nodos/blob/main/Untitled4.ipynb\" target=\"_parent\"><img src=\"https://colab.research.google.com/assets/colab-badge.svg\" alt=\"Open In Colab\"/></a>"
      ]
    },
    {
      "cell_type": "code",
      "execution_count": null,
      "metadata": {
        "colab": {
          "base_uri": "https://localhost:8080/"
        },
        "id": "qL5KGLxLtshi",
        "outputId": "89d6357e-55ff-441f-df3a-8bc4025204d9"
      },
      "outputs": [
        {
          "output_type": "stream",
          "name": "stdout",
          "text": [
            "¿Cuantas personas desea ingresar por nodo: 2\n",
            "ingresar nombre : 0david\n",
            "ingrese apellido: 0 garcia\n",
            "ingrese nrc: 0 45646\n",
            "ingrese id: 0 891583\n",
            "ingrese programa: 0 ing. sis\n",
            "ingrese asignatura: 0 estructura de datos\n",
            "ingresar nombre : 1julian\n",
            "ingrese apellido: 1 salas\n",
            "ingrese nrc: 1 887163\n",
            "ingrese id: 1 864564\n",
            "ingrese programa: 1 ing. sis\n",
            "ingrese asignatura: 1 estructura de datos\n",
            "nombre:david, apellido: garcia, nrc: 45646, id: 891583, programa:ing. sis, asignatura:estructura de datos \n",
            "nombre:julian, apellido: salas, nrc: 887163, id: 864564, programa:ing. sis, asignatura:estructura de datos \n",
            "None\n"
          ]
        }
      ],
      "source": [
        "class Nodo:\n",
        "    def __init__(self, nombre, apellido, nrc, id, programa, asignatura):\n",
        "        self.nombre= nombre\n",
        "        self.apellido = apellido\n",
        "        self.nrc = nrc\n",
        "        self.id = id\n",
        "        self.programa = programa\n",
        "        self.asignatura = asignatura\n",
        "        self.siguiente = None\n",
        "\n",
        "\n",
        "class ListaSimple:\n",
        "    def __init__(self):\n",
        "        self.cabeza = None\n",
        "\n",
        "\n",
        "    def insertar(self, nombre, apellido, nrc, id, programa, asignatura):\n",
        "        nuevo_nodo = Nodo(nombre,apellido, nrc, id, programa, asignatura)\n",
        "        if not self.cabeza:\n",
        "            self.cabeza = nuevo_nodo\n",
        "        else:\n",
        "            actual = self.cabeza\n",
        "            while actual.siguiente:\n",
        "                actual = actual.siguiente\n",
        "            actual.siguiente = nuevo_nodo\n",
        "\n",
        "\n",
        "    def mostrar(self):\n",
        "        if not self.cabeza:\n",
        "            print(\"La lista está vacía.\")\n",
        "            return\n",
        "        actual = self.cabeza\n",
        "        while actual:\n",
        "            print(f\"nombre:{actual.nombre}, apellido: {actual.apellido}, nrc: {actual.nrc}, id: {actual.id}, programa:{actual.programa}, asignatura:{actual.asignatura} \")\n",
        "            actual = actual.siguiente\n",
        "        print(\"None\")\n",
        "\n",
        "persona = ListaSimple()\n",
        "\n",
        "\n",
        "datos_ingresar= int(input(\"¿Cuantas personas desea ingresar por nodo: \"))\n",
        "for i in range (datos_ingresar):\n",
        "    persona.insertar(input(f\"ingresar nombre : {i}\"), input(f\"ingrese apellido: {i} \"), input(f\"ingrese nrc: {i} \"), input(f\"ingrese id: {i} \"), input(f\"ingrese programa: {i} \"), input(f\"ingrese asignatura: {i} \")) # Se ha corregido la indentación y se ha cerrado el paréntesis\n",
        "\n",
        "persona.mostrar()\n"
      ]
    },
    {
      "cell_type": "markdown",
      "source": [],
      "metadata": {
        "id": "XK1fdYLv3Jmy"
      }
    },
    {
      "cell_type": "code",
      "source": [
        "class Nodo:\n",
        "    def __init__(self, camisa, zapatos, pantalones):\n",
        "        self.camisa = camisa\n",
        "        self.zapatos = zapatos\n",
        "        self.pantalones = pantalones\n",
        "        self.siguiente = None\n",
        "\n",
        "class ListaSimple:\n",
        "    def __init__(self):\n",
        "        self.cabeza = None\n",
        "\n",
        "    def insertar(self, camisa, zapatos, pantalones):\n",
        "        nuevo_nodo = Nodo(camisa, zapatos, pantalones)\n",
        "        if not self.cabeza:\n",
        "            self.cabeza = nuevo_nodo\n",
        "        else:\n",
        "            actual = self.cabeza\n",
        "            while actual.siguiente:\n",
        "                actual = actual.siguiente\n",
        "            actual.siguiente = nuevo_nodo\n",
        "\n",
        "    def mostrar(self):\n",
        "        if not self.cabeza:\n",
        "            print(\"Eso es todo\")\n",
        "            return\n",
        "        actual = self.cabeza\n",
        "        while actual:\n",
        "            print(f\"Camisa: {actual.camisa}, Zapatos: {actual.zapatos}, Pantalones: {actual.pantalones}\")\n",
        "            actual = actual.siguiente\n",
        "\n",
        "ropa = ListaSimple()\n",
        "\n",
        "datos_ingresar= int(input(\"¿Cuantos outiftis desea ingresar: \"))\n",
        "for i in range (datos_ingresar):\n",
        "\n",
        "    ropa.insertar(input(\"ingresar camisa : \"), input(\"ingrese zapato:  \"), input(\"ingrese pantalon:  \"))\n",
        "\n",
        "#mostrar datos\n",
        "\n",
        "print(\"su outift es:\")\n",
        "ropa.mostrar()\n",
        "\n"
      ],
      "metadata": {
        "colab": {
          "base_uri": "https://localhost:8080/"
        },
        "id": "w-6W0Ps7xZeu",
        "outputId": "a20ab783-6953-46cd-ea70-e919d4a06b0c"
      },
      "execution_count": 1,
      "outputs": [
        {
          "output_type": "stream",
          "name": "stdout",
          "text": [
            "¿Cuantos outiftis desea ingresar: 1\n",
            "ingresar camisa : azul, nike\n",
            "ingrese zapato:  addidas negros\n",
            "ingrese pantalon:  cargo verdes\n",
            "su outift es:\n",
            "Camisa: azul, nike, Zapatos: addidas negros, Pantalones: cargo verdes\n"
          ]
        }
      ]
    },
    {
      "cell_type": "markdown",
      "source": [
        "Crear una lista de datos del investario del aula de clase, osea, escritorios, computadores, mouse, teclados, sillas, salon, tablero , tv."
      ],
      "metadata": {
        "id": "EPO93u8q4fEp"
      }
    },
    {
      "cell_type": "code",
      "source": [
        "class Nodo:\n",
        "    def __init__(self, tipo, cantidad):\n",
        "        self.tipo = tipo\n",
        "        self.cantidad = cantidad\n",
        "        self.siguiente = None\n",
        "\n",
        "class ListaSimple:\n",
        "    def __init__(self):\n",
        "        self.cabeza = None\n",
        "\n",
        "    def insertar(self, tipo, cantidad):\n",
        "        nuevo_nodo = Nodo(tipo, cantidad)\n",
        "        if not self.cabeza:\n",
        "            self.cabeza = nuevo_nodo\n",
        "        else:\n",
        "            actual = self.cabeza\n",
        "            while actual.siguiente:\n",
        "                actual = actual.siguiente\n",
        "            actual.siguiente = nuevo_nodo\n",
        "\n",
        "    def mostrar(self):\n",
        "        if not self.cabeza:\n",
        "            print(\"La lista está vacía.\")\n",
        "            return\n",
        "        actual = self.cabeza\n",
        "        while actual:\n",
        "            print(f\"Tipo: {actual.tipo}, Cantidad: {actual.cantidad}\")\n",
        "            actual = actual.siguiente\n",
        "\n",
        "\n",
        "inventario = ListaSimple()\n",
        "\n",
        "num_elementos = int(input(\"¿Cuántos elementos desea ingresar al inventario? \"))\n",
        "\n",
        "for _ in range(num_elementos):\n",
        "    tipo = input(\"Ingrese el tipo de elemento: \")\n",
        "    cantidad = int(input(f\"Ingrese la cantidad de {tipo}: \"))\n",
        "    inventario.insertar(tipo, cantidad)\n",
        "\n",
        "# Mostrar el inventario\n",
        "inventario.mostrar()"
      ],
      "metadata": {
        "id": "Tql5UkNkzGVZ",
        "colab": {
          "base_uri": "https://localhost:8080/"
        },
        "outputId": "fb6bdec3-9b70-42c8-8efa-e6639000d012"
      },
      "execution_count": 2,
      "outputs": [
        {
          "output_type": "stream",
          "name": "stdout",
          "text": [
            "¿Cuántos elementos desea ingresar al inventario? 2\n",
            "Ingrese el tipo de elemento: escritorio\n",
            "Ingrese la cantidad de escritorio: 54\n",
            "Ingrese el tipo de elemento: computador\n",
            "Ingrese la cantidad de computador: 12\n",
            "Tipo: escritorio, Cantidad: 54\n",
            "Tipo: computador, Cantidad: 12\n"
          ]
        }
      ]
    },
    {
      "cell_type": "code",
      "source": [
        "class NodoTikToker:\n",
        "    def __init__(self, nombre_famoso, cantidad_tiktoksubidos):\n",
        "        self.nombre_famoso = nombre_famoso\n",
        "        self.cantidad_tiktoksubidos = cantidad_tiktoksubidos\n",
        "        self.siguiente = None\n",
        "\n",
        "class ListaTikTokers:\n",
        "    def __init__(self):\n",
        "        self.cabeza = None\n",
        "\n",
        "    def insertar(self, nombre_famoso, cantidad_tiktoksubidos):\n",
        "        nuevo_nodo = NodoTikToker(nombre_famoso, cantidad_tiktoksubidos)\n",
        "        if not self.cabeza:\n",
        "            self.cabeza = nuevo_nodo\n",
        "        else:\n",
        "            actual = self.cabeza\n",
        "            while actual.siguiente:\n",
        "                actual = actual.siguiente\n",
        "            actual.siguiente = nuevo_nodo\n",
        "\n",
        "    def mostrar(self):\n",
        "        if not self.cabeza:\n",
        "            print(\"La lista está vacía.\")\n",
        "            return\n",
        "        actual = self.cabeza\n",
        "        while actual:\n",
        "            print(f\"Nombre: {actual.nombre_famoso}, TikToks subidos: {actual.cantidad_tiktoksubidos}\")\n",
        "            actual = actual.siguiente\n",
        "\n",
        "tiktokers = ListaTikTokers()\n",
        "\n",
        "tiktokers.insertar(\"Ronaldo Lima\", 3)\n",
        "tiktokers.insertar(\"Khaby Lame\", 1400)\n",
        "tiktokers.insertar(\"Addison Rae\", 1000)\n",
        "\n",
        "\n",
        "tiktokers.mostrar()"
      ],
      "metadata": {
        "colab": {
          "base_uri": "https://localhost:8080/"
        },
        "id": "mPKezAdLQcTS",
        "outputId": "7b97d4ce-35a8-4515-eaa5-0c49eb76c450"
      },
      "execution_count": 3,
      "outputs": [
        {
          "output_type": "stream",
          "name": "stdout",
          "text": [
            "Nombre: Ronaldo Lima, TikToks subidos: 3\n",
            "Nombre: Khaby Lame, TikToks subidos: 1400\n",
            "Nombre: Addison Rae, TikToks subidos: 1000\n"
          ]
        }
      ]
    }
  ]
}